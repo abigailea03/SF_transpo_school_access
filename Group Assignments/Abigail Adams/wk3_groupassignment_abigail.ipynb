{
 "cells": [
  {
   "cell_type": "markdown",
   "id": "107d2710-4e83-4b72-8844-7851c7c0dd1c",
   "metadata": {},
   "source": [
    "# Income and Poverty Profile of San Francisco in 2023\n",
    "### By: Abigail Adams \n",
    "### Date: January 23rd, 2025\n",
    "\n",
    "#### In this file, I will be looking at ACS Survey Data from 2023 to explore the income profile of San Francisco residents by census tract. This information will inform our group project by helping us identify any correlation between dempraphic characteristics and access to public transportation in SF. I will focus on variables that pertain to income, poverty status, and family chracteristics because our project explores access near public high schools in SF. \n"
   ]
  },
  {
   "cell_type": "markdown",
   "id": "db44eff4-cbb3-4085-9be2-317cfc8a186f",
   "metadata": {},
   "source": [
    "First, I will import the packages I plan to use. "
   ]
  },
  {
   "cell_type": "code",
   "execution_count": 2,
   "id": "7d5ab779-d8c1-47f4-9647-064448fead63",
   "metadata": {},
   "outputs": [],
   "source": [
    "# import packages for visualizations \n",
    "import pandas as pd # for non spatial data \n",
    "import geopandas as gpd # for geo data\n",
    "import folium # for interactive map"
   ]
  },
  {
   "cell_type": "code",
   "execution_count": 11,
   "id": "8503d896-a43b-44d0-a24b-d8409e361f2c",
   "metadata": {},
   "outputs": [],
   "source": [
    "# load acs dataframe \n",
    "#acs = pd.read_csv('Caleb Huang/data/SF Race Data NH.csv')"
   ]
  },
  {
   "cell_type": "code",
   "execution_count": 12,
   "id": "9df1d481-7488-4d2e-9621-766c0aca495f",
   "metadata": {},
   "outputs": [
    {
     "name": "stdout",
     "output_type": "stream",
     "text": [
      "upload to Github\n"
     ]
    }
   ],
   "source": [
    "# printing demonstration to upload notebook to Github\n",
    "print('upload to Github')"
   ]
  },
  {
   "cell_type": "code",
   "execution_count": 13,
   "id": "b45b654d-12ef-42fb-bf38-44842e2c9f26",
   "metadata": {},
   "outputs": [
    {
     "name": "stdout",
     "output_type": "stream",
     "text": [
      "use terminal to push to github\n"
     ]
    }
   ],
   "source": [
    "print('use terminal to push to github')"
   ]
  },
  {
   "cell_type": "code",
   "execution_count": null,
   "id": "d6fe9c0a-1629-4a91-8a9b-18ceb2ff5541",
   "metadata": {},
   "outputs": [],
   "source": []
  }
 ],
 "metadata": {
  "kernelspec": {
   "display_name": "Python 3 (ipykernel)",
   "language": "python",
   "name": "python3"
  },
  "language_info": {
   "codemirror_mode": {
    "name": "ipython",
    "version": 3
   },
   "file_extension": ".py",
   "mimetype": "text/x-python",
   "name": "python",
   "nbconvert_exporter": "python",
   "pygments_lexer": "ipython3",
   "version": "3.11.9"
  }
 },
 "nbformat": 4,
 "nbformat_minor": 5
}
